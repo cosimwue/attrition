{
 "cells": [
  {
   "cell_type": "code",
   "execution_count": 1,
   "metadata": {},
   "outputs": [],
   "source": [
    "import sys\n",
    "sys.path.insert(0, '../src/')\n",
    "\n",
    "import warsim_osipov_model as ws"
   ]
  },
  {
   "cell_type": "code",
   "execution_count": 2,
   "metadata": {},
   "outputs": [],
   "source": [
    "power = 0.04\n",
    "size_r = 1000\n",
    "power_r = power\n",
    "size_b_1 = 700\n",
    "power_b_1 = power\n",
    "size_b_2 = 700\n",
    "power_b_2 = power\n",
    "combat_duration = 100"
   ]
  },
  {
   "cell_type": "code",
   "execution_count": 3,
   "metadata": {},
   "outputs": [
    {
     "name": "stdout",
     "output_type": "stream",
     "text": [
      "Size of r per time unit:  [1000, 974, 934, 901, 875, 855, 836, 823, 802, 784, 770, 755, 749, 738, 729, 722, 718, 715, 709, 702, 698, 697, 695] Size of b per time unit:  [700, 666, 616, 580, 539, 498, 459, 429, 392, 363, 325, 302, 275, 245, 212, 190, 160, 141, 104, 76, 52, 26, 0]\n"
     ]
    }
   ],
   "source": [
    "size_r, _, size_b_1, _ = ws.warsim(size_r, power_r, size_b_1, power_b_1, combat_duration)"
   ]
  },
  {
   "cell_type": "code",
   "execution_count": 4,
   "metadata": {},
   "outputs": [
    {
     "name": "stdout",
     "output_type": "stream",
     "text": [
      "695 0\n"
     ]
    }
   ],
   "source": [
    "print(size_r, size_b_1)"
   ]
  },
  {
   "cell_type": "code",
   "execution_count": 5,
   "metadata": {},
   "outputs": [
    {
     "name": "stdout",
     "output_type": "stream",
     "text": [
      "Size of r per time unit:  [695, 668, 639, 609, 587, 567, 542, 519, 496, 482, 464, 449, 424, 402, 386, 370, 363, 341, 326, 314, 293, 285, 267, 257, 245, 235, 227, 219, 209, 205, 195, 190, 177, 172, 165, 161, 154, 149, 143, 141, 135, 133, 130, 128, 124, 121, 115, 112, 108, 103, 99, 96, 95, 94, 91, 85, 82, 78, 75, 73, 71, 70, 70, 70, 69, 67, 66, 65, 65, 61, 61, 60, 55, 53, 52, 50, 49, 49, 47, 46, 45, 45, 44, 44, 44, 43, 43, 43, 43, 43] Size of b per time unit:  [700, 667, 640, 615, 592, 563, 543, 525, 502, 480, 464, 446, 431, 413, 393, 371, 357, 339, 322, 312, 303, 296, 285, 277, 262, 250, 236, 227, 221, 214, 201, 186, 176, 169, 166, 159, 152, 146, 138, 134, 127, 121, 111, 108, 104, 98, 93, 91, 87, 81, 81, 79, 77, 75, 73, 71, 67, 65, 63, 59, 57, 55, 55, 52, 50, 47, 45, 37, 34, 33, 32, 30, 28, 25, 22, 21, 20, 20, 19, 17, 16, 14, 10, 10, 7, 7, 5, 3, 2, 0]\n"
     ]
    }
   ],
   "source": [
    "size_r, _, size_b_2, _ = ws.warsim(size_r, power_r, size_b_2, power_b_2, combat_duration)"
   ]
  },
  {
   "cell_type": "code",
   "execution_count": 6,
   "metadata": {},
   "outputs": [
    {
     "name": "stdout",
     "output_type": "stream",
     "text": [
      "43 0\n"
     ]
    }
   ],
   "source": [
    "print(size_r, size_b_2)"
   ]
  },
  {
   "cell_type": "code",
   "execution_count": 7,
   "metadata": {},
   "outputs": [],
   "source": [
    "section = [0, 1]\n",
    "power = 0.04\n",
    "size_r = [1000, 1000]\n",
    "power_r = power\n",
    "size_b_1 = [500, 500]\n",
    "power_b_1 = power\n",
    "size_b_2 = [500, 500]\n",
    "power_b_2 = power\n",
    "combat_duration = 100"
   ]
  },
  {
   "cell_type": "code",
   "execution_count": 8,
   "metadata": {},
   "outputs": [
    {
     "name": "stdout",
     "output_type": "stream",
     "text": [
      "Size of r per time unit:  [1000, 969, 950, 927, 913, 889, 872, 866, 852, 838, 832, 824, 820, 815, 813, 810] Size of b per time unit:  [500, 463, 432, 399, 364, 334, 297, 260, 225, 187, 149, 118, 78, 52, 20, 0]\n",
      "Size of r per time unit:  [810, 790, 772, 752, 724, 711, 699, 680, 666, 659, 647, 632, 628, 617, 609, 598, 595, 592, 589, 587, 584, 583] Size of b per time unit:  [500, 475, 449, 419, 389, 362, 338, 311, 285, 263, 240, 212, 185, 154, 126, 106, 87, 74, 52, 28, 6, 0]\n",
      "Size of r per time unit:  [1000, 986, 974, 952, 944, 930, 916, 910, 901, 894, 890, 886, 886, 886] Size of b per time unit:  [500, 449, 405, 358, 307, 276, 242, 210, 169, 129, 93, 56, 22, 0]\n",
      "Size of r per time unit:  [886, 868, 845, 822, 806, 791, 766, 755, 751, 739, 731, 726, 722, 715, 714, 714, 714] Size of b per time unit:  [500, 467, 442, 406, 368, 333, 298, 262, 232, 203, 171, 129, 97, 67, 44, 15, 0]\n"
     ]
    }
   ],
   "source": [
    "for front in section:\n",
    "    size_r[front], _, size_b_1[front], _ = ws.warsim(size_r[front], power_r, size_b_1[front], power_b_1, combat_duration)\n",
    "    size_r[front], _, size_b_2[front], _ = ws.warsim(size_r[front], power_r, size_b_2[front], power_b_2, combat_duration)"
   ]
  },
  {
   "cell_type": "code",
   "execution_count": 9,
   "metadata": {},
   "outputs": [
    {
     "name": "stdout",
     "output_type": "stream",
     "text": [
      "[583, 714] [0, 0]\n"
     ]
    }
   ],
   "source": [
    "print(size_r, size_b_2)"
   ]
  }
 ],
 "metadata": {
  "kernelspec": {
   "display_name": "Python 3",
   "language": "python",
   "name": "python3"
  },
  "language_info": {
   "codemirror_mode": {
    "name": "ipython",
    "version": 3
   },
   "file_extension": ".py",
   "mimetype": "text/x-python",
   "name": "python",
   "nbconvert_exporter": "python",
   "pygments_lexer": "ipython3",
   "version": "3.6.5"
  }
 },
 "nbformat": 4,
 "nbformat_minor": 2
}
